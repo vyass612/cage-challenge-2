{
 "cells": [
  {
   "attachments": {},
   "cell_type": "markdown",
   "metadata": {},
   "source": [
    "### Simple Wrappers"
   ]
  },
  {
   "cell_type": "code",
   "execution_count": 1,
   "metadata": {},
   "outputs": [
    {
     "name": "stderr",
     "output_type": "stream",
     "text": [
      "c:\\Users\\c21122256\\PycharmProjects\\CAGE-Challenge-1\\venv\\lib\\site-packages\\paramiko\\transport.py:219: CryptographyDeprecationWarning: Blowfish has been deprecated\n",
      "  \"class\": algorithms.Blowfish,\n"
     ]
    }
   ],
   "source": [
    "import inspect\n",
    "from pprint import pprint\n",
    "from CybORG import CybORG\n",
    "from CybORG.Agents.Wrappers import *\n",
    "\n",
    "path = str(inspect.getfile(CybORG))\n",
    "path = path[:-10] + '/Shared/Scenarios/Scenario1b.yaml'\n",
    "\n",
    "cyborg = CybORG(path,'sim')"
   ]
  },
  {
   "attachments": {},
   "cell_type": "markdown",
   "metadata": {},
   "source": [
    "Our demonstrations have mostly been with native CybORG, but we will now demonstrate how AI can be assisted by the use of Wrappers.\n",
    "\n",
    "Our first Wrapper is EnumActionWrapper, which calculates all the possible actions and returns the action space as the number of such actions. This gives a relatively large number of actions for both Blue and Red team."
   ]
  },
  {
   "cell_type": "code",
   "execution_count": 2,
   "metadata": {},
   "outputs": [
    {
     "name": "stdout",
     "output_type": "stream",
     "text": [
      "Blue action space: 54\n",
      "Red action space: 56\n"
     ]
    }
   ],
   "source": [
    "env = EnumActionWrapper(cyborg)\n",
    "\n",
    "results = env.reset(agent='Blue')\n",
    "action_space = results.action_space\n",
    "print('Blue action space:',action_space)\n",
    "\n",
    "results = env.reset(agent='Red')\n",
    "action_space = results.action_space\n",
    "print('Red action space:', action_space)"
   ]
  },
  {
   "attachments": {},
   "cell_type": "markdown",
   "metadata": {},
   "source": [
    "We can do a similar thing for the observation space. The FlatFixedWrapper parses the internal state of CybORG and turns it into a list of floats, which can easily be converted into a vector. Unfortunately, this vector is extremely long, with length over 11,000!"
   ]
  },
  {
   "cell_type": "code",
   "execution_count": 3,
   "metadata": {},
   "outputs": [
    {
     "name": "stdout",
     "output_type": "stream",
     "text": [
      "<class 'list'>\n",
      "11293\n"
     ]
    }
   ],
   "source": [
    "env = FixedFlatWrapper(CybORG(path, 'sim'))\n",
    "\n",
    "results = env.reset()\n",
    "obs = results.observation\n",
    "print(type(obs))\n",
    "print(len(obs))"
   ]
  },
  {
   "attachments": {},
   "cell_type": "markdown",
   "metadata": {},
   "source": [
    "The OpenAIGymWrapper converts the output of FlatFixedWrapper to a numpy array as well as conforming to other parts of the OpenAI Gym API. It requires FlatFixedWrapper and EnumActionWrapper in order to function and should always be the outermost of the provided wrappers. You must also specify an agent parameter and explitly specify the environment parameter."
   ]
  },
  {
   "cell_type": "code",
   "execution_count": 4,
   "metadata": {},
   "outputs": [
    {
     "name": "stdout",
     "output_type": "stream",
     "text": [
      "Observation: [ 0.6666667  0.         1.        ... -1.        -1.        -1.       ]\n",
      "-------------------------------------------------------------------------\n",
      "Action_Space: Discrete(54)\n",
      "-------------------------------------------------------------------------\n",
      "Observation Space: Box([-1. -1. -1. ... -1. -1. -1.], [3. 3. 3. ... 3. 3. 3.], (11293,), float32)\n"
     ]
    }
   ],
   "source": [
    "wrappers = FixedFlatWrapper(EnumActionWrapper(cyborg))\n",
    "env = OpenAIGymWrapper(env=wrappers,agent_name='Blue')\n",
    "\n",
    "obs = env.reset()\n",
    "print('Observation:',obs)\n",
    "print(73*'-')\n",
    "print('Action_Space:',env.action_space)\n",
    "print(73*'-')\n",
    "print('Observation Space:',env.observation_space)"
   ]
  },
  {
   "attachments": {},
   "cell_type": "markdown",
   "metadata": {},
   "source": [
    "### Table Wrappers"
   ]
  },
  {
   "attachments": {},
   "cell_type": "markdown",
   "metadata": {},
   "source": [
    "The 'Table Wrappers' attempt to use basic logic to infer a human-friendly picture of the state by keeping track of past observations. This allows for a greatly simplified state space and much greater human readibility. However, it mercilessly exploits the current limitations of Scenario 1b and thus would have limited use on real-world cyber problems.\n",
    "\n",
    "The first wrapper is the TrueTableWrapper, which modifies the get_agent_state method to return the true state in the form of the table."
   ]
  },
  {
   "cell_type": "code",
   "execution_count": 5,
   "metadata": {},
   "outputs": [
    {
     "name": "stdout",
     "output_type": "stream",
     "text": [
      "+-----------------+--------------+-------------+-------+---------+------------+\n",
      "|      Subnet     |  IP Address  |   Hostname  | Known | Scanned |   Access   |\n",
      "+-----------------+--------------+-------------+-------+---------+------------+\n",
      "| 10.0.206.144/28 | 10.0.206.156 |   Defender  | False |  False  |    None    |\n",
      "| 10.0.206.144/28 | 10.0.206.149 | Enterprise0 | False |  False  |    None    |\n",
      "| 10.0.206.144/28 | 10.0.206.147 | Enterprise1 | False |  False  |    None    |\n",
      "| 10.0.206.144/28 | 10.0.206.148 | Enterprise2 | False |  False  |    None    |\n",
      "|  10.0.201.64/28 | 10.0.201.66  |   Op_Host0  | False |  False  |    None    |\n",
      "|  10.0.201.64/28 | 10.0.201.71  |   Op_Host1  | False |  False  |    None    |\n",
      "|  10.0.201.64/28 | 10.0.201.67  |   Op_Host2  | False |  False  |    None    |\n",
      "|  10.0.201.64/28 | 10.0.201.77  |  Op_Server0 | False |  False  |    None    |\n",
      "|  10.0.146.32/28 | 10.0.146.42  |    User0    |  True |  False  | Privileged |\n",
      "|  10.0.146.32/28 | 10.0.146.35  |    User1    | False |  False  |    None    |\n",
      "|  10.0.146.32/28 | 10.0.146.36  |    User2    | False |  False  |    None    |\n",
      "|  10.0.146.32/28 | 10.0.146.38  |    User3    | False |  False  |    None    |\n",
      "|  10.0.146.32/28 | 10.0.146.39  |    User4    | False |  False  |    None    |\n",
      "+-----------------+--------------+-------------+-------+---------+------------+\n"
     ]
    }
   ],
   "source": [
    "env = TrueTableWrapper(cyborg)\n",
    "\n",
    "env.reset()\n",
    "\n",
    "true_table = env.get_agent_state('True')\n",
    "print(true_table)"
   ]
  },
  {
   "attachments": {},
   "cell_type": "markdown",
   "metadata": {},
   "source": [
    "The BlueTableWrapper provides similar functionality for the blue observation."
   ]
  },
  {
   "cell_type": "code",
   "execution_count": 6,
   "metadata": {},
   "outputs": [
    {
     "name": "stdout",
     "output_type": "stream",
     "text": [
      "[['10.0.184.112/28', '10.0.184.113', 'Defender', 'None', 'No'], ['10.0.184.112/28', '10.0.184.126', 'Enterprise0', 'None', 'No'], ['10.0.184.112/28', '10.0.184.118', 'Enterprise1', 'None', 'No'], ['10.0.184.112/28', '10.0.184.125', 'Enterprise2', 'None', 'No'], ['10.0.215.192/28', '10.0.215.195', 'Op_Host0', 'None', 'No'], ['10.0.215.192/28', '10.0.215.194', 'Op_Host1', 'None', 'No'], ['10.0.215.192/28', '10.0.215.200', 'Op_Host2', 'None', 'No'], ['10.0.215.192/28', '10.0.215.203', 'Op_Server0', 'None', 'No'], ['10.0.201.176/28', '10.0.201.185', 'User0', 'None', 'No'], ['10.0.201.176/28', '10.0.201.181', 'User1', 'None', 'No'], ['10.0.201.176/28', '10.0.201.182', 'User2', 'None', 'No'], ['10.0.201.176/28', '10.0.201.180', 'User3', 'None', 'No'], ['10.0.201.176/28', '10.0.201.184', 'User4', 'None', 'No']]\n",
      "[['10.0.184.112/28', '10.0.184.113', 'Defender', 'None', 'No'], ['10.0.184.112/28', '10.0.184.126', 'Enterprise0', 'None', 'No'], ['10.0.184.112/28', '10.0.184.118', 'Enterprise1', 'None', 'No'], ['10.0.184.112/28', '10.0.184.125', 'Enterprise2', 'None', 'No'], ['10.0.215.192/28', '10.0.215.195', 'Op_Host0', 'None', 'No'], ['10.0.215.192/28', '10.0.215.194', 'Op_Host1', 'None', 'No'], ['10.0.215.192/28', '10.0.215.200', 'Op_Host2', 'None', 'No'], ['10.0.215.192/28', '10.0.215.203', 'Op_Server0', 'None', 'No'], ['10.0.201.176/28', '10.0.201.185', 'User0', 'None', 'No'], ['10.0.201.176/28', '10.0.201.181', 'User1', 'None', 'No'], ['10.0.201.176/28', '10.0.201.182', 'User2', 'None', 'No'], ['10.0.201.176/28', '10.0.201.180', 'User3', 'None', 'No'], ['10.0.201.176/28', '10.0.201.184', 'User4', 'None', 'No']]\n",
      "[0 0 0 0 0 0 0 0 0 0 0 0 0 0 0 0 0 0 0 0 0 0 0 0 0 0 0 0 0 0 0 0 0 0 0 0 0\n",
      " 0 0 0 0 0 0 0 0 0 0 0 0 0 0 0]\n",
      "[['10.0.184.112/28', '10.0.184.113', 'Defender', 'None', 'No'], ['10.0.184.112/28', '10.0.184.126', 'Enterprise0', 'None', 'No'], ['10.0.184.112/28', '10.0.184.118', 'Enterprise1', 'None', 'No'], ['10.0.184.112/28', '10.0.184.125', 'Enterprise2', 'None', 'No'], ['10.0.215.192/28', '10.0.215.195', 'Op_Host0', 'None', 'No'], ['10.0.215.192/28', '10.0.215.194', 'Op_Host1', 'None', 'No'], ['10.0.215.192/28', '10.0.215.200', 'Op_Host2', 'None', 'No'], ['10.0.215.192/28', '10.0.215.203', 'Op_Server0', 'None', 'No'], ['10.0.201.176/28', '10.0.201.185', 'User0', 'None', 'No'], ['10.0.201.176/28', '10.0.201.181', 'User1', 'Scan', 'No'], ['10.0.201.176/28', '10.0.201.182', 'User2', 'None', 'No'], ['10.0.201.176/28', '10.0.201.180', 'User3', 'None', 'No'], ['10.0.201.176/28', '10.0.201.184', 'User4', 'None', 'No']]\n",
      "[0 0 0 0 0 0 0 0 0 0 0 0 0 0 0 0 0 0 0 0 0 0 0 0 0 0 0 0 0 0 0 0 0 0 0 0 1\n",
      " 0 0 0 0 0 0 0 0 0 0 0 0 0 0 0]\n",
      "[['10.0.184.112/28', '10.0.184.113', 'Defender', 'None', 'No'], ['10.0.184.112/28', '10.0.184.126', 'Enterprise0', 'None', 'No'], ['10.0.184.112/28', '10.0.184.118', 'Enterprise1', 'None', 'No'], ['10.0.184.112/28', '10.0.184.125', 'Enterprise2', 'None', 'No'], ['10.0.215.192/28', '10.0.215.195', 'Op_Host0', 'None', 'No'], ['10.0.215.192/28', '10.0.215.194', 'Op_Host1', 'None', 'No'], ['10.0.215.192/28', '10.0.215.200', 'Op_Host2', 'None', 'No'], ['10.0.215.192/28', '10.0.215.203', 'Op_Server0', 'None', 'No'], ['10.0.201.176/28', '10.0.201.185', 'User0', 'None', 'No'], ['10.0.201.176/28', '10.0.201.181', 'User1', 'Exploit', 'User'], ['10.0.201.176/28', '10.0.201.182', 'User2', 'None', 'No'], ['10.0.201.176/28', '10.0.201.180', 'User3', 'None', 'No'], ['10.0.201.176/28', '10.0.201.184', 'User4', 'None', 'No']]\n",
      "[0 0 0 0 0 0 0 0 0 0 0 0 0 0 0 0 0 0 0 0 0 0 0 0 0 0 0 0 0 0 0 0 0 0 0 0 1\n",
      " 1 0 1 0 0 0 0 0 0 0 0 0 0 0 0]\n"
     ]
    }
   ],
   "source": [
    "from CybORG.Agents import B_lineAgent\n",
    "from CybORG.Shared.Actions import Sleep\n",
    "cyborg = CybORG(path,'sim', agents={'Red':B_lineAgent})\n",
    "\n",
    "env = BlueTableWrapper(cyborg)\n",
    "\n",
    "results = env.reset(agent='Blue')\n",
    "\n",
    "for i in range(3):\n",
    "    results = env.step(agent='Blue')\n",
    "    blue_obs = results.observation\n",
    "    print(blue_obs)"
   ]
  },
  {
   "attachments": {},
   "cell_type": "markdown",
   "metadata": {},
   "source": [
    "The table can also be converted into a vector. This is done by setting the output_mode parameter to 'vector'."
   ]
  },
  {
   "cell_type": "code",
   "execution_count": 19,
   "metadata": {},
   "outputs": [
    {
     "name": "stdout",
     "output_type": "stream",
     "text": [
      "[0 0 0 0 0 0 0 0 0 0 0 0 0 0 0 0 0 0 0 0 0 0 0 0 0 0 0 0 0 0 0 0 0 0 0 0 0\n",
      " 0 0 0 0 0 0 0 0 0 0 0 0 0 0 0]\n",
      "----------------------------------------------------------------------------\n",
      "[0 0 0 0 0 0 0 0 0 0 0 0 0 0 0 0 0 0 0 0 0 0 0 0 0 0 0 0 0 0 0 0 0 0 0 0 1\n",
      " 0 0 0 0 0 0 0 0 0 0 0 0 0 0 0]\n",
      "----------------------------------------------------------------------------\n",
      "[0 0 0 0 0 0 0 0 0 0 0 0 0 0 0 0 0 0 0 0 0 0 0 0 0 0 0 0 0 0 0 0 0 0 0 0 0\n",
      " 0 0 0 0 0 0 0 0 0 0 0 0 0 0 0]\n",
      "----------------------------------------------------------------------------\n"
     ]
    }
   ],
   "source": [
    "env = BlueTableWrapper(cyborg,output_mode='vector')\n",
    "\n",
    "env.reset(agent='Blue')\n",
    "for i in range(3):\n",
    "    results = env.step(agent='Blue')\n",
    "    blue_obs = results.observation\n",
    "    print(blue_obs)\n",
    "    print(76*'-')"
   ]
  },
  {
   "attachments": {},
   "cell_type": "markdown",
   "metadata": {},
   "source": [
    "The RedTableWrapper is the Red Team version of the BlueTableWrapper."
   ]
  },
  {
   "cell_type": "code",
   "execution_count": 22,
   "metadata": {},
   "outputs": [
    {
     "name": "stdout",
     "output_type": "stream",
     "text": [
      "+---------------+------------+----------+---------+------------+\n",
      "|     Subnet    | IP Address | Hostname | Scanned |   Access   |\n",
      "+---------------+------------+----------+---------+------------+\n",
      "| 10.0.18.48/28 | 10.0.18.52 |  User0   |  False  | Privileged |\n",
      "+---------------+------------+----------+---------+------------+\n",
      "+---------------+------------+-----------------+---------+------------+\n",
      "|     Subnet    | IP Address |     Hostname    | Scanned |   Access   |\n",
      "+---------------+------------+-----------------+---------+------------+\n",
      "| 10.0.18.48/28 | 10.0.18.50 | UNKNOWN_HOST: 0 |  False  |    None    |\n",
      "| 10.0.18.48/28 | 10.0.18.51 | UNKNOWN_HOST: 1 |  False  |    None    |\n",
      "| 10.0.18.48/28 | 10.0.18.52 |      User0      |  False  | Privileged |\n",
      "| 10.0.18.48/28 | 10.0.18.53 | UNKNOWN_HOST: 3 |  False  |    None    |\n",
      "| 10.0.18.48/28 | 10.0.18.55 | UNKNOWN_HOST: 2 |  False  |    None    |\n",
      "+---------------+------------+-----------------+---------+------------+\n",
      "+---------------+------------+-----------------+---------+------------+\n",
      "|     Subnet    | IP Address |     Hostname    | Scanned |   Access   |\n",
      "+---------------+------------+-----------------+---------+------------+\n",
      "| 10.0.18.48/28 | 10.0.18.50 | UNKNOWN_HOST: 0 |   True  |    None    |\n",
      "| 10.0.18.48/28 | 10.0.18.51 | UNKNOWN_HOST: 1 |  False  |    None    |\n",
      "| 10.0.18.48/28 | 10.0.18.52 |      User0      |  False  | Privileged |\n",
      "| 10.0.18.48/28 | 10.0.18.53 | UNKNOWN_HOST: 3 |  False  |    None    |\n",
      "| 10.0.18.48/28 | 10.0.18.55 | UNKNOWN_HOST: 2 |  False  |    None    |\n",
      "+---------------+------------+-----------------+---------+------------+\n",
      "+---------------+------------+-----------------+---------+------------+\n",
      "|     Subnet    | IP Address |     Hostname    | Scanned |   Access   |\n",
      "+---------------+------------+-----------------+---------+------------+\n",
      "| 10.0.18.48/28 | 10.0.18.50 |      User1      |   True  |    User    |\n",
      "| 10.0.18.48/28 | 10.0.18.51 | UNKNOWN_HOST: 1 |  False  |    None    |\n",
      "| 10.0.18.48/28 | 10.0.18.52 |      User0      |  False  | Privileged |\n",
      "| 10.0.18.48/28 | 10.0.18.53 | UNKNOWN_HOST: 3 |  False  |    None    |\n",
      "| 10.0.18.48/28 | 10.0.18.55 | UNKNOWN_HOST: 2 |  False  |    None    |\n",
      "+---------------+------------+-----------------+---------+------------+\n",
      "+-------------------+-------------+-----------------+---------+------------+\n",
      "|       Subnet      |  IP Address |     Hostname    | Scanned |   Access   |\n",
      "+-------------------+-------------+-----------------+---------+------------+\n",
      "|   10.0.18.48/28   |  10.0.18.50 |      User1      |   True  | Privileged |\n",
      "|   10.0.18.48/28   |  10.0.18.51 | UNKNOWN_HOST: 1 |  False  |    None    |\n",
      "|   10.0.18.48/28   |  10.0.18.52 |      User0      |  False  | Privileged |\n",
      "|   10.0.18.48/28   |  10.0.18.53 | UNKNOWN_HOST: 3 |  False  |    None    |\n",
      "|   10.0.18.48/28   |  10.0.18.55 | UNKNOWN_HOST: 2 |  False  |    None    |\n",
      "| UNKNOWN_SUBNET: 4 | 10.0.251.98 | UNKNOWN_HOST: 5 |  False  |    None    |\n",
      "+-------------------+-------------+-----------------+---------+------------+\n"
     ]
    }
   ],
   "source": [
    "env = RedTableWrapper(cyborg)\n",
    "\n",
    "results = env.reset(agent='Red')\n",
    "print(results.observation)\n",
    "\n",
    "for i in range(4):\n",
    "    results = env.step(agent='Red')\n",
    "    red_obs = results.observation\n",
    "    print(red_obs)"
   ]
  },
  {
   "attachments": {},
   "cell_type": "markdown",
   "metadata": {},
   "source": [
    "### Challenge Wrapper"
   ]
  },
  {
   "attachments": {},
   "cell_type": "markdown",
   "metadata": {},
   "source": [
    "The challenge wrapper is three wrappers nested together: BlueTableWrapper, EnumActionWrapper and OpenAIGymWrapper."
   ]
  },
  {
   "cell_type": "code",
   "execution_count": 18,
   "metadata": {},
   "outputs": [
    {
     "name": "stdout",
     "output_type": "stream",
     "text": [
      "[ 1  0  0  1  0  0  1  0  0  0  0  0  0  0  0  0  0  0  0 -1 -1 -1 -1 -1\n",
      " -1 -1 -1 -1 -1 -1 -1 -1 -1 -1 -1 -1 -1 -1 -1 -1]\n",
      "----------------------------------------------------------------------------\n",
      "0.0\n",
      "----------------------------------------------------------------------------\n",
      "False\n",
      "----------------------------------------------------------------------------\n",
      "{'action': <CybORG.Shared.Actions.AbstractActions.DiscoverRemoteSystems.DiscoverRemoteSystems object at 0x7fae8dfca0d0>,\n",
      " 'action_name': None,\n",
      " 'action_space': 56,\n",
      " 'done': False,\n",
      " 'error': None,\n",
      " 'error_msg': None,\n",
      " 'info': None,\n",
      " 'next_observation': None,\n",
      " 'observation': array([ 1,  0,  0,  1,  0,  0,  1,  0,  0,  0,  0,  0,  0,  0,  0,  0,  0,\n",
      "        0,  0, -1, -1, -1, -1, -1, -1, -1, -1, -1, -1, -1, -1, -1, -1, -1,\n",
      "       -1, -1, -1, -1, -1, -1]),\n",
      " 'parameter_mask': None,\n",
      " 'reward': 0.0,\n",
      " 'selection_masks': None}\n"
     ]
    }
   ],
   "source": [
    "env = ChallengeWrapper(env=cyborg,agent_name='Red')\n",
    "\n",
    "obs = env.reset()\n",
    "\n",
    "for i in range(1):\n",
    "    obs, reward, done, info = env.step()\n",
    "    print(obs)\n",
    "    print(76*'-')\n",
    "    print(reward)\n",
    "    print(76*'-')\n",
    "    print(done)\n",
    "    print(76*'-')\n",
    "    pprint(info)"
   ]
  },
  {
   "cell_type": "code",
   "execution_count": null,
   "metadata": {},
   "outputs": [],
   "source": []
  }
 ],
 "metadata": {
  "kernelspec": {
   "display_name": "Python 3",
   "language": "python",
   "name": "python3"
  },
  "language_info": {
   "codemirror_mode": {
    "name": "ipython",
    "version": 3
   },
   "file_extension": ".py",
   "mimetype": "text/x-python",
   "name": "python",
   "nbconvert_exporter": "python",
   "pygments_lexer": "ipython3",
   "version": "3.8.10"
  }
 },
 "nbformat": 4,
 "nbformat_minor": 4
}
