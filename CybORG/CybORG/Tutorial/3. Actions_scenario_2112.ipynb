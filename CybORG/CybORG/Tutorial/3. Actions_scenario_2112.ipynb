{
 "cells": [
  {
   "attachments": {},
   "cell_type": "markdown",
   "metadata": {},
   "source": [
    "### CybORG Action Space"
   ]
  },
  {
   "attachments": {},
   "cell_type": "markdown",
   "metadata": {},
   "source": [
    "Without the use of wrappers,  CybORG actions need to be constructed by the agent before being passed in. If you are not interested this we suggest you skip to the wrapper tutorial.\n",
    "\n",
    "The action space is updated every step and can be found as a dictionary in the results object. Because this dictionary is quite large, we will only print the keys below."
   ]
  },
  {
   "cell_type": "code",
   "execution_count": 1,
   "metadata": {},
   "outputs": [
    {
     "name": "stderr",
     "output_type": "stream",
     "text": [
      "c:\\Users\\c21122256\\PycharmProjects\\CAGE-Challenge-1\\venv\\lib\\site-packages\\paramiko\\transport.py:219: CryptographyDeprecationWarning: Blowfish has been deprecated\n",
      "  \"class\": algorithms.Blowfish,\n"
     ]
    },
    {
     "name": "stdout",
     "output_type": "stream",
     "text": [
      "dict_keys(['action', 'subnet', 'ip_address', 'session', 'username', 'password', 'process', 'port', 'target_session', 'agent', 'hostname'])\n"
     ]
    }
   ],
   "source": [
    "import inspect\n",
    "from pprint import pprint\n",
    "from CybORG import CybORG\n",
    "\n",
    "path = str(inspect.getfile(CybORG))\n",
    "path = path[:-10] + '/Shared/Scenarios/Scenario_reduced_observation_2112_manual.yaml'\n",
    "\n",
    "\n",
    "env = CybORG(path, 'sim')\n",
    "\n",
    "results = env.reset(agent='Red')\n",
    "action_space = results.action_space\n",
    "pprint(action_space.keys())"
   ]
  },
  {
   "attachments": {},
   "cell_type": "markdown",
   "metadata": {},
   "source": [
    "The CybORG action space is divided into \"actions\" and \"parameters\". Actions represent the use of specific cyber tools (for example a network scanning tool like nmap), while parameters represent the inputs the tool requires to function (to scan the interfaces of a host with nmap, you need to provide the ip address of the host).\n",
    "\n",
    "The \"actions\" are located under the 'action' key in the action_space dictionary."
   ]
  },
  {
   "cell_type": "code",
   "execution_count": 2,
   "metadata": {},
   "outputs": [
    {
     "name": "stdout",
     "output_type": "stream",
     "text": [
      "{<class 'CybORG.Shared.Actions.Action.Sleep'>: True,\n",
      " <class 'CybORG.Shared.Actions.AbstractActions.DiscoverRemoteSystems.DiscoverRemoteSystems'>: True,\n",
      " <class 'CybORG.Shared.Actions.AbstractActions.DiscoverNetworkServices.DiscoverNetworkServices'>: True,\n",
      " <class 'CybORG.Shared.Actions.AbstractActions.ExploitRemoteService.ExploitRemoteService'>: True,\n",
      " <class 'CybORG.Shared.Actions.AbstractActions.Impact.Impact'>: True,\n",
      " <class 'CybORG.Shared.Actions.AbstractActions.PrivilegeEscalate.PrivilegeEscalate'>: True}\n"
     ]
    }
   ],
   "source": [
    "actions = action_space['action']\n",
    "pprint(actions)"
   ]
  },
  {
   "attachments": {},
   "cell_type": "markdown",
   "metadata": {},
   "source": [
    "We can see that our actions are each custom classes that form the keys of the above dictionary. The values specify whether this action is currently valid. In Scenario 1b, this value will always be True.\n",
    "\n",
    "The remaining keys in the scenario dictionary represent different classes of parameters. For example, if we examine the 'ip_address' key we will get a dictionary whose keys are the various ip_addresses on the network. The values are again booleans, which represents whether Red knows about this ip_address or not."
   ]
  },
  {
   "cell_type": "code",
   "execution_count": 3,
   "metadata": {},
   "outputs": [
    {
     "name": "stdout",
     "output_type": "stream",
     "text": [
      "{IPv4Address('10.0.38.68'): False,\n",
      " IPv4Address('10.0.38.74'): False,\n",
      " IPv4Address('10.0.120.56'): False,\n",
      " IPv4Address('10.0.120.60'): True,\n",
      " IPv4Address('10.0.230.131'): False,\n",
      " IPv4Address('10.0.230.132'): False,\n",
      " IPv4Address('10.0.230.140'): False}\n"
     ]
    }
   ],
   "source": [
    "ips = action_space['ip_address']\n",
    "pprint(ips)"
   ]
  },
  {
   "attachments": {},
   "cell_type": "markdown",
   "metadata": {},
   "source": [
    "To construct an action, we choose (or import) an action class, then instantiate it by passing in the necessary parameters. These can be found HERE."
   ]
  },
  {
   "cell_type": "code",
   "execution_count": 4,
   "metadata": {},
   "outputs": [],
   "source": [
    "import random\n",
    "from CybORG.Shared.Actions import DiscoverNetworkServices\n",
    "unknown_ips = [ip for ip in ips if not ips[ip]]\n",
    "ip = random.choice(unknown_ips)\n",
    "\n",
    "action = DiscoverNetworkServices(session=0,agent='Red',ip_address=ip)"
   ]
  },
  {
   "attachments": {},
   "cell_type": "markdown",
   "metadata": {},
   "source": [
    "We have deliberately chosen to scan an ip address that Red Agent doesn't know about. Although randomly guessing an ip address to scan is possible in the real world, we have decided it is out of scope for Scenario1b and so this action will always fail. If you want to expose your agent to the action space, you should filter out all parameters with False values first."
   ]
  },
  {
   "cell_type": "code",
   "execution_count": 5,
   "metadata": {},
   "outputs": [
    {
     "name": "stdout",
     "output_type": "stream",
     "text": [
      "{'success': <TrinaryEnum.FALSE: 3>}\n"
     ]
    }
   ],
   "source": [
    "results = env.step(action=action,agent='Red')\n",
    "print(results.observation)"
   ]
  },
  {
   "attachments": {},
   "cell_type": "markdown",
   "metadata": {},
   "source": [
    "### Red Actions"
   ]
  },
  {
   "attachments": {},
   "cell_type": "markdown",
   "metadata": {},
   "source": [
    "We will now take a detailed look at Red Team's actions and understand what they do. Red's actions are listed below."
   ]
  },
  {
   "cell_type": "code",
   "execution_count": 6,
   "metadata": {},
   "outputs": [
    {
     "name": "stdout",
     "output_type": "stream",
     "text": [
      "['Sleep',\n",
      " 'DiscoverRemoteSystems',\n",
      " 'DiscoverNetworkServices',\n",
      " 'ExploitRemoteService',\n",
      " 'PrivilegeEscalate',\n",
      " 'Impact']\n"
     ]
    }
   ],
   "source": [
    "pprint([action.__name__ for action in actions if actions[action]])"
   ]
  },
  {
   "attachments": {},
   "cell_type": "markdown",
   "metadata": {},
   "source": [
    "The Sleep action does nothing and requires no parameters."
   ]
  },
  {
   "cell_type": "code",
   "execution_count": 7,
   "metadata": {},
   "outputs": [
    {
     "name": "stdout",
     "output_type": "stream",
     "text": [
      "{'success': <TrinaryEnum.UNKNOWN: 2>}\n"
     ]
    }
   ],
   "source": [
    "from CybORG.Shared.Actions import *\n",
    "\n",
    "action = Sleep()\n",
    "results = env.step(action=action,agent='Red')\n",
    "print(results.observation)"
   ]
  },
  {
   "attachments": {},
   "cell_type": "markdown",
   "metadata": {},
   "source": [
    "The DiscoverRemoteSystems action represents a ping sweep and takes in a subnet parameter to return all ips active on that subnet. Note how we pull the "
   ]
  },
  {
   "cell_type": "code",
   "execution_count": 8,
   "metadata": {},
   "outputs": [
    {
     "name": "stdout",
     "output_type": "stream",
     "text": [
      "{'10.0.120.56': {'Interface': [{'IP Address': IPv4Address('10.0.120.56'),\n",
      "                                'Subnet': IPv4Network('10.0.120.48/28')}]},\n",
      " '10.0.120.60': {'Interface': [{'IP Address': IPv4Address('10.0.120.60'),\n",
      "                                'Subnet': IPv4Network('10.0.120.48/28')}]},\n",
      " 'success': <TrinaryEnum.TRUE: 1>}\n"
     ]
    }
   ],
   "source": [
    "subnets = action_space['subnet']\n",
    "known_subnets = [subnet for subnet in subnets if subnets[subnet]]\n",
    "subnet = known_subnets[0]\n",
    "\n",
    "action = DiscoverRemoteSystems(subnet = subnet, session=0,agent='Red')\n",
    "results = env.step(action=action,agent='Red')\n",
    "pprint(results.observation)"
   ]
  },
  {
   "attachments": {},
   "cell_type": "markdown",
   "metadata": {},
   "source": [
    "The DiscoverNetworkServices action represents a port scan and takes in an ip address parameter to return a list of open ports and their respective services. These will be represented in the observation as new connections. The Red team must have discovered the ip address using the DiscoverRemoteSystems action in order for this action to succeed."
   ]
  },
  {
   "cell_type": "code",
   "execution_count": 9,
   "metadata": {},
   "outputs": [
    {
     "name": "stdout",
     "output_type": "stream",
     "text": [
      "{'10.0.120.56': {'Interface': [{'IP Address': IPv4Address('10.0.120.56')}],\n",
      "                 'Processes': [{'Connections': [{'local_address': IPv4Address('10.0.120.56'),\n",
      "                                                 'local_port': 22}]},\n",
      "                               {'Connections': [{'local_address': IPv4Address('10.0.120.56'),\n",
      "                                                 'local_port': 135}]},\n",
      "                               {'Connections': [{'local_address': IPv4Address('10.0.120.56'),\n",
      "                                                 'local_port': 3389}]},\n",
      "                               {'Connections': [{'local_address': IPv4Address('10.0.120.56'),\n",
      "                                                 'local_port': 445}]},\n",
      "                               {'Connections': [{'local_address': IPv4Address('10.0.120.56'),\n",
      "                                                 'local_port': 139}]}]},\n",
      " 'success': <TrinaryEnum.TRUE: 1>}\n"
     ]
    }
   ],
   "source": [
    "known_ips = [ip for ip in ips if ips[ip]]\n",
    "ip = random.choice(known_ips)\n",
    "action = DiscoverNetworkServices(ip_address=ip,session=0,agent='Red')\n",
    "\n",
    "results = env.step(action=action,agent='Red')\n",
    "pprint(results.observation)"
   ]
  },
  {
   "attachments": {},
   "cell_type": "markdown",
   "metadata": {},
   "source": [
    "The ExploitRemoteService represents the use of a service exploit to obtain a reverse shell on the host. It requires an ip address as an input parameter and creates a new shell on the target host. \n",
    "\n",
    "CybORG actually models several different types of real-world exploits and this action chooses between them depending on the services available and the operating system of the host. This action will only ever succeed if the host's ip address has been discovered by Red team.\n",
    "\n",
    "Usually the shell created by this action will be a shell with user privileges, but some exploits, such as EternalBlue, give SYSTEM access to a windows machine. In this case, performing the Privilege Escalation action afterwards is unnecessary, although our rules-based agents always will."
   ]
  },
  {
   "cell_type": "code",
   "execution_count": 10,
   "metadata": {},
   "outputs": [
    {
     "name": "stdout",
     "output_type": "stream",
     "text": [
      "{'10.0.120.56': {'Interface': [{'IP Address': IPv4Address('10.0.120.56')}],\n",
      "                 'Processes': [{'Connections': [{'local_address': IPv4Address('10.0.120.56'),\n",
      "                                                 'local_port': 52075,\n",
      "                                                 'remote_address': IPv4Address('10.0.120.60'),\n",
      "                                                 'remote_port': 4444}],\n",
      "                                'Process Type': <ProcessType.REVERSE_SESSION: 9>},\n",
      "                               {'Connections': [{'Status': <ProcessState.OPEN: 2>,\n",
      "                                                 'local_address': IPv4Address('10.0.120.56'),\n",
      "                                                 'local_port': 139}],\n",
      "                                'Process Type': <ProcessType.SMB: 4>}],\n",
      "                 'Sessions': [{'Agent': 'Red',\n",
      "                               'ID': 1,\n",
      "                               'Type': <SessionType.RED_REVERSE_SHELL: 11>}],\n",
      "                 'System info': {'Hostname': 'User1',\n",
      "                                 'OSType': <OperatingSystemType.WINDOWS: 2>}},\n",
      " '10.0.120.60': {'Interface': [{'IP Address': IPv4Address('10.0.120.60')}],\n",
      "                 'Processes': [{'Connections': [{'local_address': IPv4Address('10.0.120.60'),\n",
      "                                                 'local_port': 4444,\n",
      "                                                 'remote_address': IPv4Address('10.0.120.56'),\n",
      "                                                 'remote_port': 52075}],\n",
      "                                'Process Type': <ProcessType.REVERSE_SESSION_HANDLER: 8>}]},\n",
      " 'success': <TrinaryEnum.TRUE: 1>}\n"
     ]
    }
   ],
   "source": [
    "action = ExploitRemoteService(ip_address=ip,session=0,agent='Red')\n",
    "\n",
    "results = env.step(action=action,agent='Red')\n",
    "pprint(results.observation)"
   ]
  },
  {
   "attachments": {},
   "cell_type": "markdown",
   "metadata": {},
   "source": [
    "The PrivilegeEscalate represents the use of malware to establish a privileged shell with root (Linux) or SYSTEM (Windows) privileges. This action requires a user shell to be on the target host.\n",
    "\n",
    "This action has the potential to reveals information about hosts on other subnets, which can then be scanned and exploited."
   ]
  },
  {
   "cell_type": "code",
   "execution_count": 11,
   "metadata": {},
   "outputs": [
    {
     "name": "stdout",
     "output_type": "stream",
     "text": [
      "{'Enterprise1': {'Interface': [{'IP Address': IPv4Address('10.0.230.132')}]},\n",
      " 'User1': {'Interface': [{'IP Address': IPv4Address('10.0.120.56'),\n",
      "                          'Interface Name': 'eth0',\n",
      "                          'Subnet': IPv4Network('10.0.120.48/28')}],\n",
      "           'Processes': [{'PID': 9804, 'Username': 'SYSTEM'}],\n",
      "           'Sessions': [{'Agent': 'Red',\n",
      "                         'ID': 1,\n",
      "                         'PID': 9804,\n",
      "                         'Timeout': 0,\n",
      "                         'Type': <SessionType.RED_REVERSE_SHELL: 11>,\n",
      "                         'Username': 'SYSTEM'}]},\n",
      " 'success': <TrinaryEnum.TRUE: 1>}\n"
     ]
    }
   ],
   "source": [
    "hostname = results.observation[str(ip)]['System info']['Hostname']\n",
    "action = PrivilegeEscalate(hostname=hostname,session=0,agent='Red')\n",
    "\n",
    "results = env.step(action=action,agent='Red')\n",
    "pprint(results.observation)"
   ]
  },
  {
   "attachments": {},
   "cell_type": "markdown",
   "metadata": {},
   "source": [
    "The Impact action represents the degredation of services. It requires a hostname input parameter, but will only work on the 'OpServer0' host on the Operational subnet and needs to be continually run in order to have an ongoing effect."
   ]
  },
  {
   "cell_type": "code",
   "execution_count": 12,
   "metadata": {},
   "outputs": [
    {
     "ename": "KeyboardInterrupt",
     "evalue": "",
     "output_type": "error",
     "traceback": [
      "\u001b[1;31m---------------------------------------------------------------------------\u001b[0m",
      "\u001b[1;31mKeyboardInterrupt\u001b[0m                         Traceback (most recent call last)",
      "Cell \u001b[1;32mIn[12], line 10\u001b[0m\n\u001b[0;32m      8\u001b[0m \u001b[39mwhile\u001b[39;00m \u001b[39mTrue\u001b[39;00m:\n\u001b[0;32m      9\u001b[0m     action \u001b[39m=\u001b[39m agent\u001b[39m.\u001b[39mget_action(obs,action_space)\n\u001b[1;32m---> 10\u001b[0m     results \u001b[39m=\u001b[39m env\u001b[39m.\u001b[39;49mstep(action\u001b[39m=\u001b[39;49maction,agent\u001b[39m=\u001b[39;49m\u001b[39m'\u001b[39;49m\u001b[39mRed\u001b[39;49m\u001b[39m'\u001b[39;49m)\n\u001b[0;32m     11\u001b[0m     obs \u001b[39m=\u001b[39m results\u001b[39m.\u001b[39mobservation\n\u001b[0;32m     13\u001b[0m     \u001b[39mif\u001b[39;00m action\u001b[39m.\u001b[39m\u001b[39m__class__\u001b[39m\u001b[39m.\u001b[39m\u001b[39m__name__\u001b[39m \u001b[39m==\u001b[39m \u001b[39m'\u001b[39m\u001b[39mImpact\u001b[39m\u001b[39m'\u001b[39m:\n",
      "File \u001b[1;32mc:\\users\\c21122256\\pycharmprojects\\cage-challenge-1\\cage-challenge-1\\cyborg\\CybORG\\CybORG.py:104\u001b[0m, in \u001b[0;36mCybORG.step\u001b[1;34m(self, agent, action, skip_valid_action_check)\u001b[0m\n\u001b[0;32m     88\u001b[0m \u001b[39mdef\u001b[39;00m \u001b[39mstep\u001b[39m(\u001b[39mself\u001b[39m, agent: \u001b[39mstr\u001b[39m \u001b[39m=\u001b[39m \u001b[39mNone\u001b[39;00m, action\u001b[39m=\u001b[39m\u001b[39mNone\u001b[39;00m, skip_valid_action_check: \u001b[39mbool\u001b[39m \u001b[39m=\u001b[39m \u001b[39mFalse\u001b[39;00m) \u001b[39m-\u001b[39m\u001b[39m>\u001b[39m Results:\n\u001b[0;32m     89\u001b[0m \u001b[39m    \u001b[39m\u001b[39m\"\"\"Performs a step in CybORG for the given agent.\u001b[39;00m\n\u001b[0;32m     90\u001b[0m \n\u001b[0;32m     91\u001b[0m \u001b[39m    Parameters\u001b[39;00m\n\u001b[1;32m   (...)\u001b[0m\n\u001b[0;32m    102\u001b[0m \u001b[39m        the result of agent performing the action\u001b[39;00m\n\u001b[0;32m    103\u001b[0m \u001b[39m    \"\"\"\u001b[39;00m\n\u001b[1;32m--> 104\u001b[0m     \u001b[39mreturn\u001b[39;00m \u001b[39mself\u001b[39;49m\u001b[39m.\u001b[39;49menvironment_controller\u001b[39m.\u001b[39;49mstep(agent, action, skip_valid_action_check)\n",
      "File \u001b[1;32mc:\\users\\c21122256\\pycharmprojects\\cage-challenge-1\\cage-challenge-1\\cyborg\\CybORG\\Shared\\EnvironmentController.py:133\u001b[0m, in \u001b[0;36mEnvironmentController.step\u001b[1;34m(self, agent, action, skip_valid_action_check)\u001b[0m\n\u001b[0;32m    130\u001b[0m     next_observation[agent_name] \u001b[39m=\u001b[39m \u001b[39mself\u001b[39m\u001b[39m.\u001b[39m_filter_obs(\u001b[39mself\u001b[39m\u001b[39m.\u001b[39mexecute_action(\u001b[39mself\u001b[39m\u001b[39m.\u001b[39maction[agent_name]), agent_name)\n\u001b[0;32m    132\u001b[0m \u001b[39m# get true observation\u001b[39;00m\n\u001b[1;32m--> 133\u001b[0m true_observation \u001b[39m=\u001b[39m \u001b[39mself\u001b[39m\u001b[39m.\u001b[39m_filter_obs(\u001b[39mself\u001b[39;49m\u001b[39m.\u001b[39;49mget_true_state(\u001b[39mself\u001b[39;49m\u001b[39m.\u001b[39;49mINFO_DICT[\u001b[39m'\u001b[39;49m\u001b[39mTrue\u001b[39;49m\u001b[39m'\u001b[39;49m]))\u001b[39m.\u001b[39mdata\n\u001b[0;32m    135\u001b[0m \u001b[39m# Blue update step.\u001b[39;00m\n\u001b[0;32m    136\u001b[0m \u001b[39m# New idea: run the MONITOR action for the Blue agent, and update the observation.\u001b[39;00m\n\u001b[0;32m    137\u001b[0m \n\u001b[0;32m    138\u001b[0m \u001b[39m# pass training information to agents\u001b[39;00m\n\u001b[0;32m    139\u001b[0m \u001b[39mfor\u001b[39;00m agent_name, agent_object \u001b[39min\u001b[39;00m \u001b[39mself\u001b[39m\u001b[39m.\u001b[39magent_interfaces\u001b[39m.\u001b[39mitems():\n\u001b[0;32m    140\u001b[0m \n\u001b[0;32m    141\u001b[0m     \u001b[39m# determine done signal for agent\u001b[39;00m\n",
      "File \u001b[1;32mc:\\users\\c21122256\\pycharmprojects\\cage-challenge-1\\cage-challenge-1\\cyborg\\CybORG\\Simulator\\SimulationController.py:50\u001b[0m, in \u001b[0;36mSimulationController.get_true_state\u001b[1;34m(self, info)\u001b[0m\n\u001b[0;32m     49\u001b[0m \u001b[39mdef\u001b[39;00m \u001b[39mget_true_state\u001b[39m(\u001b[39mself\u001b[39m, info: \u001b[39mdict\u001b[39m) \u001b[39m-\u001b[39m\u001b[39m>\u001b[39m Observation:\n\u001b[1;32m---> 50\u001b[0m     output \u001b[39m=\u001b[39m \u001b[39mself\u001b[39;49m\u001b[39m.\u001b[39;49mstate\u001b[39m.\u001b[39;49mget_true_state(info)\n\u001b[0;32m     51\u001b[0m     \u001b[39mreturn\u001b[39;00m output\n",
      "File \u001b[1;32mc:\\users\\c21122256\\pycharmprojects\\cage-challenge-1\\cage-challenge-1\\cyborg\\CybORG\\Simulator\\State.py:80\u001b[0m, in \u001b[0;36mState.get_true_state\u001b[1;34m(self, info)\u001b[0m\n\u001b[0;32m     78\u001b[0m         obs \u001b[39m=\u001b[39m user\u001b[39m.\u001b[39mget_state()\n\u001b[0;32m     79\u001b[0m         \u001b[39mfor\u001b[39;00m o \u001b[39min\u001b[39;00m obs:\n\u001b[1;32m---> 80\u001b[0m             true_obs\u001b[39m.\u001b[39;49madd_user_info(hostid\u001b[39m=\u001b[39;49mhostname, \u001b[39m*\u001b[39;49m\u001b[39m*\u001b[39;49mo)\n\u001b[0;32m     81\u001b[0m \u001b[39mif\u001b[39;00m \u001b[39m'\u001b[39m\u001b[39mSystem info\u001b[39m\u001b[39m'\u001b[39m \u001b[39min\u001b[39;00m info[hostname]:\n\u001b[0;32m     82\u001b[0m     true_obs\u001b[39m.\u001b[39madd_system_info(hostid\u001b[39m=\u001b[39mhostname, \u001b[39m*\u001b[39m\u001b[39m*\u001b[39mhost\u001b[39m.\u001b[39mget_state())\n",
      "File \u001b[1;32mc:\\users\\c21122256\\pycharmprojects\\cage-challenge-1\\cage-challenge-1\\cyborg\\CybORG\\Shared\\Observation.py:527\u001b[0m, in \u001b[0;36mObservation.add_user_info\u001b[1;34m(self, hostid, group_name, gid, username, uid, password, password_hash, password_hash_type, logged_in, key_path, **kwargs)\u001b[0m\n\u001b[0;32m    524\u001b[0m \u001b[39mif\u001b[39;00m new_group \u001b[39m!=\u001b[39m {}:\n\u001b[0;32m    525\u001b[0m     new_user[\u001b[39m\"\u001b[39m\u001b[39mGroups\u001b[39m\u001b[39m\"\u001b[39m]\u001b[39m.\u001b[39mappend(new_group)\n\u001b[1;32m--> 527\u001b[0m \u001b[39mif\u001b[39;00m new_user[\u001b[39m\"\u001b[39;49m\u001b[39mGroups\u001b[39;49m\u001b[39m\"\u001b[39;49m] \u001b[39m==\u001b[39;49m []:\n\u001b[0;32m    528\u001b[0m     new_user\u001b[39m.\u001b[39mpop(\u001b[39m\"\u001b[39m\u001b[39mGroups\u001b[39m\u001b[39m\"\u001b[39m)\n\u001b[0;32m    530\u001b[0m \u001b[39mself\u001b[39m\u001b[39m.\u001b[39mdata[hostid][\u001b[39m\"\u001b[39m\u001b[39mUser Info\u001b[39m\u001b[39m\"\u001b[39m]\u001b[39m.\u001b[39mappend(new_user)\n",
      "\u001b[1;31mKeyboardInterrupt\u001b[0m: "
     ]
    }
   ],
   "source": [
    "from CybORG.Agents.SimpleAgents.B_line_2112 import B_lineAgent as B_lineAgent_2112\n",
    "\n",
    "results = env.reset(agent='Red')\n",
    "obs = results.observation\n",
    "action_space = results.action_space\n",
    "agent = B_lineAgent_2112()\n",
    "\n",
    "while True:\n",
    "    action = agent.get_action(obs,action_space)\n",
    "    results = env.step(action=action,agent='Red')\n",
    "    obs = results.observation\n",
    "    \n",
    "    if action.__class__.__name__ == 'Impact':\n",
    "        print(action)\n",
    "        print(obs)\n",
    "        break"
   ]
  },
  {
   "attachments": {},
   "cell_type": "markdown",
   "metadata": {},
   "source": [
    "## Blue Actions"
   ]
  },
  {
   "attachments": {},
   "cell_type": "markdown",
   "metadata": {},
   "source": [
    "We will now take a look at Blue Team's actions and how they interact with those of Red Team."
   ]
  },
  {
   "cell_type": "code",
   "execution_count": null,
   "metadata": {},
   "outputs": [
    {
     "name": "stdout",
     "output_type": "stream",
     "text": [
      "['Sleep', 'Monitor', 'Analyse', 'Remove', 'Restore']\n"
     ]
    }
   ],
   "source": [
    "env = CybORG(path, 'sim',agents={'Red':B_lineAgent})\n",
    "results = env.reset('Blue')\n",
    "actions = results.action_space['action']\n",
    "\n",
    "pprint([action.__name__ for action in actions if actions[action]])"
   ]
  },
  {
   "attachments": {},
   "cell_type": "markdown",
   "metadata": {},
   "source": [
    "Similar to Red Team, the sleep action for Blue Team has no effect. However, like all Blue Team actions it does have passive monitoring capabilities as explained in the observation tutorial."
   ]
  },
  {
   "cell_type": "code",
   "execution_count": null,
   "metadata": {},
   "outputs": [
    {
     "name": "stdout",
     "output_type": "stream",
     "text": [
      "{'User1': {'Interface': [{'IP Address': IPv4Address('10.0.127.195')}],\n",
      "           'Processes': [{'Connections': [{'local_address': IPv4Address('10.0.127.195'),\n",
      "                                           'local_port': 139,\n",
      "                                           'remote_address': IPv4Address('10.0.127.201'),\n",
      "                                           'remote_port': 59486}]},\n",
      "                         {'Connections': [{'local_address': IPv4Address('10.0.127.195'),\n",
      "                                           'local_port': 57615,\n",
      "                                           'remote_address': IPv4Address('10.0.127.201'),\n",
      "                                           'remote_port': 4444}],\n",
      "                          'PID': 29546}],\n",
      "           'System info': {'Architecture': <Architecture.x64: 2>,\n",
      "                           'Hostname': 'User1',\n",
      "                           'OSDistribution': <OperatingSystemDistribution.WINDOWS_SVR_2008: 4>,\n",
      "                           'OSType': <OperatingSystemType.WINDOWS: 2>,\n",
      "                           'OSVersion': <OperatingSystemVersion.W6_1_7601: 13>}},\n",
      " 'success': <TrinaryEnum.TRUE: 1>}\n"
     ]
    }
   ],
   "source": [
    "action = Sleep()\n",
    "\n",
    "for i in range(4):\n",
    "    results = env.step(action=action,agent='Blue')\n",
    "    obs = results.observation\n",
    "    if i == 2:\n",
    "        # The particular obs we want\n",
    "        pprint(obs)"
   ]
  },
  {
   "attachments": {},
   "cell_type": "markdown",
   "metadata": {},
   "source": [
    "As explained by the Observation Tutorial, the Analyse action can detect malware files on a single host. This mimics the use of a malware-detection tool such as DensityScout. Like all of Blue's actions, it requires a hostname parameter.\n",
    "\n",
    "We can see below that the action discovers malware on 'User1' as well as the passive monitoring picking up an exploit used Enterprise 1."
   ]
  },
  {
   "cell_type": "code",
   "execution_count": null,
   "metadata": {},
   "outputs": [
    {
     "name": "stdout",
     "output_type": "stream",
     "text": [
      "{'Enterprise1': {'Interface': [{'IP Address': IPv4Address('10.0.7.125')}],\n",
      "                 'Processes': [{'Connections': [{'local_address': IPv4Address('10.0.7.125'),\n",
      "                                                 'local_port': 443,\n",
      "                                                 'remote_address': IPv4Address('10.0.127.201'),\n",
      "                                                 'remote_port': 51211}]},\n",
      "                               {'Connections': [{'local_address': IPv4Address('10.0.7.125'),\n",
      "                                                 'local_port': 52627,\n",
      "                                                 'remote_address': IPv4Address('10.0.127.201'),\n",
      "                                                 'remote_port': 4444}],\n",
      "                                'PID': 3109}],\n",
      "                 'System info': {'Architecture': <Architecture.x64: 2>,\n",
      "                                 'Hostname': 'Enterprise1',\n",
      "                                 'OSDistribution': <OperatingSystemDistribution.WINDOWS_SVR_2008: 4>,\n",
      "                                 'OSType': <OperatingSystemType.WINDOWS: 2>,\n",
      "                                 'OSVersion': <OperatingSystemVersion.W6_1_7601: 13>}},\n",
      " 'User1': {'Files': [{'Density': 0.9,\n",
      "                      'File Name': 'cmd.exe',\n",
      "                      'Known File': <FileType.UNKNOWN: 1>,\n",
      "                      'Known Path': <Path.TEMP: 5>,\n",
      "                      'Path': 'C:\\\\temp\\\\',\n",
      "                      'Signed': False}]},\n",
      " 'success': <TrinaryEnum.TRUE: 1>}\n"
     ]
    }
   ],
   "source": [
    "action = Analyse(hostname='User1',session=0,agent='Blue')\n",
    "\n",
    "for i in range(2):\n",
    "    results = env.step(action=action,agent='Blue')\n",
    "    obs = results.observation\n",
    "    if i == 1:\n",
    "        pprint(obs)"
   ]
  },
  {
   "attachments": {},
   "cell_type": "markdown",
   "metadata": {},
   "source": [
    "The Remove action allows Blue Team to remove any of Red's user-level shells, simulating the act of killing it as a process. It will not remove a privileged shell. This is because privileged shells in Scenario1b are assumed to be persistent, meaning that if you remove them they will immediately come back.\n",
    "\n",
    "We can see below that the Red agent attempts to PrivilegeEscalate, but this fails as its shell has been killed. The next turn it has to re-exploit the machine. Notice the use of the get_last_action method to work out what Red's last move was."
   ]
  },
  {
   "cell_type": "code",
   "execution_count": null,
   "metadata": {},
   "outputs": [
    {
     "name": "stdout",
     "output_type": "stream",
     "text": [
      "{'success': <TrinaryEnum.TRUE: 1>}\n",
      "-------------------------------------------------------------------------\n",
      "PrivilegeEscalate Enterprise1\n",
      "*************************************************************************\n",
      "{'Enterprise1': {'Interface': [{'IP Address': IPv4Address('10.0.7.125')}],\n",
      "                 'Processes': [{'Connections': [{'local_address': IPv4Address('10.0.7.125'),\n",
      "                                                 'local_port': 443,\n",
      "                                                 'remote_address': IPv4Address('10.0.127.201'),\n",
      "                                                 'remote_port': 54032}]},\n",
      "                               {'Connections': [{'local_address': IPv4Address('10.0.7.125'),\n",
      "                                                 'local_port': 51744,\n",
      "                                                 'remote_address': IPv4Address('10.0.127.201'),\n",
      "                                                 'remote_port': 4444}],\n",
      "                                'PID': 27274}],\n",
      "                 'System info': {'Architecture': <Architecture.x64: 2>,\n",
      "                                 'Hostname': 'Enterprise1',\n",
      "                                 'OSDistribution': <OperatingSystemDistribution.WINDOWS_SVR_2008: 4>,\n",
      "                                 'OSType': <OperatingSystemType.WINDOWS: 2>,\n",
      "                                 'OSVersion': <OperatingSystemVersion.W6_1_7601: 13>}},\n",
      " 'success': <TrinaryEnum.TRUE: 1>}\n",
      "-------------------------------------------------------------------------\n",
      "ExploitRemoteService 10.0.7.125\n",
      "*************************************************************************\n"
     ]
    }
   ],
   "source": [
    "action = Remove(hostname='Enterprise1', session=0, agent='Blue')\n",
    "\n",
    "for i in range(2):\n",
    "    results = env.step(action=action,agent='Blue')\n",
    "    obs = results.observation\n",
    "    pprint(obs)\n",
    "    print(73*'-')\n",
    "    print(env.get_last_action('Red'))\n",
    "    print(73*'*')"
   ]
  },
  {
   "attachments": {},
   "cell_type": "markdown",
   "metadata": {},
   "source": [
    "The Restore action represents reverting the system to a known baseline. This will restore a host to the state it was at the beginning of the game. This will wipe all of Red's shells away, with the notable exception of Red's starting host 'User0', which has been baselined into the system. Although Restore is more powerful than Remove, it necessarily causes some disruption on the network so has a large negative penalty associated by using it.\n",
    "\n",
    "Below we can see that the Analyse action detects malware on 'User1', but this disappears after restore has been used."
   ]
  },
  {
   "cell_type": "code",
   "execution_count": null,
   "metadata": {},
   "outputs": [
    {
     "name": "stdout",
     "output_type": "stream",
     "text": [
      "{'User1': {'Files': [{'Density': 0.9,\n",
      "                      'File Name': 'cmd.exe',\n",
      "                      'Known File': <FileType.UNKNOWN: 1>,\n",
      "                      'Known Path': <Path.TEMP: 5>,\n",
      "                      'Path': 'C:\\\\temp\\\\',\n",
      "                      'Signed': False}]},\n",
      " 'success': <TrinaryEnum.TRUE: 1>}\n",
      "{'success': <TrinaryEnum.TRUE: 1>}\n",
      "{'success': <TrinaryEnum.TRUE: 1>}\n"
     ]
    }
   ],
   "source": [
    "for i in range(10):\n",
    "    env.step() # So Red's actions don't interfere\n",
    "\n",
    "action = Analyse(hostname='User1', session=0, agent='Blue')\n",
    "results = env.step(action=action,agent='Blue')\n",
    "obs = results.observation\n",
    "pprint(obs)\n",
    "    \n",
    "action = Restore(hostname='User1', session=0, agent='Blue')\n",
    "results = env.step(action=action,agent='Blue')\n",
    "obs = results.observation\n",
    "pprint(obs)\n",
    "\n",
    "action = Analyse(hostname='User1', session=0, agent='Blue')\n",
    "obs = results.observation\n",
    "pprint(obs)"
   ]
  },
  {
   "attachments": {},
   "cell_type": "markdown",
   "metadata": {},
   "source": [
    "### Miscellany"
   ]
  },
  {
   "attachments": {},
   "cell_type": "markdown",
   "metadata": {},
   "source": [
    "If you create an action that doesn't make any sense within the current scenario, CybORG will accept it, but automatically convert it to an Invalid Action. These actions automatically give a reward of -0.1."
   ]
  },
  {
   "cell_type": "code",
   "execution_count": null,
   "metadata": {},
   "outputs": [
    {
     "name": "stdout",
     "output_type": "stream",
     "text": [
      "InvalidAction\n",
      "-13.1\n"
     ]
    }
   ],
   "source": [
    "action = Analyse(hostname = \"Uncle Ted's Macbook\", session = 1.1, agent='Cyan')\n",
    "\n",
    "results = env.step(action=action,agent='Blue')\n",
    "\n",
    "print(results.action)\n",
    "print(results.reward)"
   ]
  }
 ],
 "metadata": {
  "kernelspec": {
   "display_name": "Python 3 (ipykernel)",
   "language": "python",
   "name": "python3"
  },
  "language_info": {
   "codemirror_mode": {
    "name": "ipython",
    "version": 3
   },
   "file_extension": ".py",
   "mimetype": "text/x-python",
   "name": "python",
   "nbconvert_exporter": "python",
   "pygments_lexer": "ipython3",
   "version": "3.8.10"
  }
 },
 "nbformat": 4,
 "nbformat_minor": 4
}
