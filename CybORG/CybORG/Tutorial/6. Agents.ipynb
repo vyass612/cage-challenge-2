{
 "cells": [
  {
   "attachments": {},
   "cell_type": "markdown",
   "metadata": {},
   "source": [
    "### Red Agents"
   ]
  },
  {
   "cell_type": "code",
   "execution_count": 3,
   "metadata": {},
   "outputs": [
    {
     "name": "stdout",
     "output_type": "stream",
     "text": [
      "C:\\Users\\c21122256\\PycharmProjects\\CAGE-Challenge-1\\cage-challenge-1\\CybORG\n"
     ]
    }
   ],
   "source": [
    "%cd .."
   ]
  },
  {
   "attachments": {},
   "cell_type": "markdown",
   "metadata": {},
   "source": [
    "Scenario 1b has two rules-based Red Agents. The first is our good friend the B_lineAgent. This represents an actor who has inside information, so is able to beeline straight towards the OpServer."
   ]
  },
  {
   "cell_type": "code",
   "execution_count": 5,
   "metadata": {},
   "outputs": [
    {
     "name": "stdout",
     "output_type": "stream",
     "text": [
      "DiscoverRemoteSystems 10.0.2.160/28\n",
      "DiscoverRemoteSystems 10.0.2.160/28\n",
      "DiscoverNetworkServices 10.0.2.174\n",
      "DiscoverNetworkServices 10.0.2.174\n",
      "ExploitRemoteService 10.0.2.174\n",
      "ExploitRemoteService 10.0.2.174\n",
      "PrivilegeEscalate User1\n",
      "PrivilegeEscalate User1\n",
      "DiscoverNetworkServices 10.0.16.10\n",
      "DiscoverNetworkServices 10.0.16.10\n",
      "ExploitRemoteService 10.0.16.10\n",
      "ExploitRemoteService 10.0.16.10\n",
      "PrivilegeEscalate Enterprise1\n",
      "PrivilegeEscalate Enterprise1\n",
      "DiscoverRemoteSystems 10.0.16.0/28\n",
      "DiscoverRemoteSystems 10.0.16.0/28\n"
     ]
    },
    {
     "ename": "IndexError",
     "evalue": "list index out of range",
     "output_type": "error",
     "traceback": [
      "\u001b[1;31m---------------------------------------------------------------------------\u001b[0m",
      "\u001b[1;31mIndexError\u001b[0m                                Traceback (most recent call last)",
      "Cell \u001b[1;32mIn[5], line 20\u001b[0m\n\u001b[0;32m     17\u001b[0m action_space \u001b[39m=\u001b[39m results\u001b[39m.\u001b[39maction_space\n\u001b[0;32m     19\u001b[0m \u001b[39mfor\u001b[39;00m i \u001b[39min\u001b[39;00m \u001b[39mrange\u001b[39m(\u001b[39m16\u001b[39m):\n\u001b[1;32m---> 20\u001b[0m     action \u001b[39m=\u001b[39m agent\u001b[39m.\u001b[39;49mget_action(obs,action_space)\n\u001b[0;32m     21\u001b[0m     results \u001b[39m=\u001b[39m env\u001b[39m.\u001b[39mstep(action\u001b[39m=\u001b[39maction,agent\u001b[39m=\u001b[39m\u001b[39m'\u001b[39m\u001b[39mRed\u001b[39m\u001b[39m'\u001b[39m)\n\u001b[0;32m     22\u001b[0m     obs \u001b[39m=\u001b[39m results\u001b[39m.\u001b[39mobservation\n",
      "File \u001b[1;32mc:\\users\\c21122256\\pycharmprojects\\cage-challenge-1\\cage-challenge-1\\cyborg\\CybORG\\Agents\\SimpleAgents\\B_line_2112.py:75\u001b[0m, in \u001b[0;36mB_lineAgent.get_action\u001b[1;34m(self, observation, action_space)\u001b[0m\n\u001b[0;32m     73\u001b[0m \u001b[39m# Discover Network Services- Enterprise2\u001b[39;00m\n\u001b[0;32m     74\u001b[0m \u001b[39melif\u001b[39;00m \u001b[39mself\u001b[39m\u001b[39m.\u001b[39maction \u001b[39m==\u001b[39m \u001b[39m8\u001b[39m:\n\u001b[1;32m---> 75\u001b[0m     \u001b[39mself\u001b[39m\u001b[39m.\u001b[39mtarget_ip_address \u001b[39m=\u001b[39m [value \u001b[39mfor\u001b[39;49;00m key, value \u001b[39min\u001b[39;49;00m observation\u001b[39m.\u001b[39;49mitems() \u001b[39mif\u001b[39;49;00m key \u001b[39m!=\u001b[39;49m \u001b[39m'\u001b[39;49m\u001b[39msuccess\u001b[39;49m\u001b[39m'\u001b[39;49m][\u001b[39m2\u001b[39;49m][\u001b[39m'\u001b[39m\u001b[39mInterface\u001b[39m\u001b[39m'\u001b[39m][\u001b[39m0\u001b[39m][\u001b[39m'\u001b[39m\u001b[39mIP Address\u001b[39m\u001b[39m'\u001b[39m]\n\u001b[0;32m     76\u001b[0m     action \u001b[39m=\u001b[39m DiscoverNetworkServices(session\u001b[39m=\u001b[39msession, agent\u001b[39m=\u001b[39m\u001b[39m'\u001b[39m\u001b[39mRed\u001b[39m\u001b[39m'\u001b[39m, ip_address\u001b[39m=\u001b[39m\u001b[39mself\u001b[39m\u001b[39m.\u001b[39mtarget_ip_address)\n\u001b[0;32m     77\u001b[0m     \u001b[39mprint\u001b[39m(action)\n",
      "\u001b[1;31mIndexError\u001b[0m: list index out of range"
     ]
    }
   ],
   "source": [
    "import inspect\n",
    "from pprint import pprint\n",
    "from CybORG import CybORG\n",
    "from CybORG.Agents import *\n",
    "from CybORG.Shared.Actions import *\n",
    "from CybORG.Agents.SimpleAgents.B_line_2112 import B_lineAgent\n",
    "\n",
    "path = str(inspect.getfile(CybORG))\n",
    "path = path[:-10] + '/Shared/Scenarios/Scenario_reduced_observation_2112_manual.yaml'\n",
    "\n",
    "env = CybORG(path,'sim')\n",
    "\n",
    "agent = B_lineAgent()\n",
    "\n",
    "results = env.reset('Red')\n",
    "obs = results.observation\n",
    "action_space = results.action_space\n",
    "\n",
    "for i in range(16):\n",
    "    action = agent.get_action(obs,action_space)\n",
    "    results = env.step(action=action,agent='Red')\n",
    "    obs = results.observation\n",
    "    \n",
    "    print(action)"
   ]
  },
  {
   "attachments": {},
   "cell_type": "markdown",
   "metadata": {},
   "source": [
    "This agent runs along a predetermined path to the Op_Server, but is smart enough able to recover its position if interrupted. We can see below after Blue Team restores some hosts, the agent works out where the error in and re-exploits its way to the Op_Server."
   ]
  },
  {
   "cell_type": "code",
   "execution_count": 15,
   "metadata": {},
   "outputs": [
    {
     "name": "stdout",
     "output_type": "stream",
     "text": [
      "Impact Op_Server0\n",
      "Success: FALSE\n",
      "PrivilegeEscalate Op_Server0\n",
      "Success: FALSE\n",
      "ExploitRemoteService 10.0.180.214\n",
      "Success: FALSE\n",
      "ExploitRemoteService 10.0.254.108\n",
      "Success: TRUE\n",
      "PrivilegeEscalate Enterprise2\n",
      "Success: TRUE\n",
      "DiscoverNetworkServices 10.0.180.214\n",
      "Success: TRUE\n",
      "ExploitRemoteService 10.0.180.214\n",
      "Success: TRUE\n",
      "PrivilegeEscalate Op_Server0\n",
      "Success: TRUE\n",
      "Impact Op_Server0\n",
      "Success: TRUE\n",
      "Impact Op_Server0\n",
      "Success: TRUE\n",
      "Impact Op_Server0\n",
      "Success: TRUE\n",
      "Impact Op_Server0\n",
      "Success: TRUE\n"
     ]
    }
   ],
   "source": [
    "action = Restore(hostname='Op_Server0',session=0,agent='Blue')\n",
    "env.step(action=action,agent='Blue')\n",
    "\n",
    "action = Restore(hostname='Enterprise2',session=0,agent='Blue')\n",
    "env.step(action=action,agent='Blue')\n",
    "\n",
    "action = Restore(hostname='Enterprise1',session=0,agent='Blue')\n",
    "env.step(action=action,agent='Blue')\n",
    "\n",
    "for i in range(12):\n",
    "    action = agent.get_action(obs,action_space)\n",
    "    results = env.step(action=action,agent='Red')\n",
    "    obs = results.observation\n",
    "            \n",
    "    print(action)\n",
    "    print('Success:',obs['success'])"
   ]
  },
  {
   "attachments": {},
   "cell_type": "markdown",
   "metadata": {},
   "source": [
    "The other red agent is the MeanderAgent. This performs a breadth first search on all known hosts, scanning each one in turn, before attempting a mix of exploit and privilege escalate on the rest. This is an extremely slow agent in contrast to the laser-focussed B_lineAgent."
   ]
  },
  {
   "cell_type": "code",
   "execution_count": 16,
   "metadata": {},
   "outputs": [
    {
     "name": "stdout",
     "output_type": "stream",
     "text": [
      "DiscoverRemoteSystems 10.0.177.240/28\n",
      "DiscoverNetworkServices 10.0.177.242\n",
      "DiscoverNetworkServices 10.0.177.253\n",
      "DiscoverNetworkServices 10.0.177.246\n",
      "DiscoverNetworkServices 10.0.177.241\n",
      "DiscoverNetworkServices 10.0.177.248\n",
      "PrivilegeEscalate User0\n",
      "ExploitRemoteService 10.0.177.242\n",
      "ExploitRemoteService 10.0.177.253\n",
      "PrivilegeEscalate User1\n",
      "DiscoverNetworkServices 10.0.212.178\n",
      "ExploitRemoteService 10.0.212.178\n",
      "PrivilegeEscalate Enterprise1\n",
      "DiscoverRemoteSystems 10.0.212.176/28\n",
      "DiscoverNetworkServices 10.0.212.190\n",
      "DiscoverNetworkServices 10.0.212.186\n",
      "DiscoverNetworkServices 10.0.212.184\n",
      "ExploitRemoteService 10.0.212.190\n",
      "PrivilegeEscalate Enterprise1\n",
      "PrivilegeEscalate User0\n",
      "PrivilegeEscalate User1\n",
      "ExploitRemoteService 10.0.212.186\n",
      "PrivilegeEscalate Enterprise0\n",
      "ExploitRemoteService 10.0.212.184\n",
      "PrivilegeEscalate Enterprise2\n",
      "DiscoverNetworkServices 10.0.23.49\n",
      "ExploitRemoteService 10.0.23.49\n",
      "PrivilegeEscalate Op_Server0\n",
      "DiscoverRemoteSystems 10.0.23.48/28\n",
      "DiscoverNetworkServices 10.0.23.51\n",
      "DiscoverNetworkServices 10.0.23.53\n",
      "DiscoverNetworkServices 10.0.23.55\n",
      "ExploitRemoteService 10.0.23.51\n",
      "PrivilegeEscalate Op_Host0\n",
      "ExploitRemoteService 10.0.23.53\n",
      "PrivilegeEscalate Op_Host1\n",
      "ExploitRemoteService 10.0.23.55\n",
      "PrivilegeEscalate Op_Host2\n",
      "ExploitRemoteService 10.0.177.246\n",
      "PrivilegeEscalate User2\n",
      "ExploitRemoteService 10.0.177.241\n",
      "PrivilegeEscalate User3\n",
      "ExploitRemoteService 10.0.177.248\n",
      "PrivilegeEscalate User4\n",
      "Impact Op_Server0\n",
      "Impact Op_Server0\n"
     ]
    }
   ],
   "source": [
    "agent = RedMeanderAgent()\n",
    "\n",
    "results = env.reset('Red')\n",
    "obs = results.observation\n",
    "action_space = results.action_space\n",
    "\n",
    "for i in range(46):\n",
    "    action = agent.get_action(obs,action_space)\n",
    "    results = env.step(action=action,agent='Red')\n",
    "    obs = results.observation\n",
    "    \n",
    "    print(action)"
   ]
  },
  {
   "attachments": {},
   "cell_type": "markdown",
   "metadata": {},
   "source": [
    "The Meander Agent is also able to recover from Blue's disruption."
   ]
  },
  {
   "cell_type": "code",
   "execution_count": 17,
   "metadata": {},
   "outputs": [
    {
     "name": "stdout",
     "output_type": "stream",
     "text": [
      "Impact Op_Server0\n",
      "ExploitRemoteService 10.0.23.49\n",
      "PrivilegeEscalate Enterprise0\n",
      "PrivilegeEscalate Enterprise1\n",
      "PrivilegeEscalate Enterprise2\n",
      "PrivilegeEscalate Op_Host0\n",
      "PrivilegeEscalate Op_Host1\n",
      "PrivilegeEscalate Op_Host2\n",
      "PrivilegeEscalate Op_Server0\n",
      "PrivilegeEscalate User0\n",
      "PrivilegeEscalate User1\n",
      "PrivilegeEscalate User2\n",
      "PrivilegeEscalate User3\n",
      "PrivilegeEscalate User4\n",
      "ExploitRemoteService 10.0.212.186\n",
      "PrivilegeEscalate Enterprise0\n",
      "ExploitRemoteService 10.0.212.178\n",
      "PrivilegeEscalate Enterprise1\n",
      "ExploitRemoteService 10.0.212.184\n",
      "PrivilegeEscalate Enterprise2\n",
      "ExploitRemoteService 10.0.23.49\n",
      "PrivilegeEscalate Op_Server0\n",
      "Impact Op_Server0\n",
      "Impact Op_Server0\n"
     ]
    }
   ],
   "source": [
    "action = Restore(hostname='Op_Server0',session=0,agent='Blue')\n",
    "env.step(action=action,agent='Blue')\n",
    "\n",
    "action = Restore(hostname='Enterprise2',session=0,agent='Blue')\n",
    "env.step(action=action,agent='Blue')\n",
    "\n",
    "action = Restore(hostname='Enterprise1',session=0,agent='Blue')\n",
    "env.step(action=action,agent='Blue')\n",
    "\n",
    "action = Restore(hostname='Enterprise0',session=0,agent='Blue')\n",
    "env.step(action=action,agent='Blue')\n",
    "\n",
    "for i in range(24):\n",
    "    action = agent.get_action(obs,action_space)\n",
    "    results = env.step(action=action,agent='Red')\n",
    "    obs = results.observation\n",
    "    print(env.get_last_action('Red'))"
   ]
  },
  {
   "attachments": {},
   "cell_type": "markdown",
   "metadata": {},
   "source": [
    "### Blue Agents"
   ]
  },
  {
   "attachments": {},
   "cell_type": "markdown",
   "metadata": {},
   "source": [
    "The BlueReactRemoveAgent will wait until it sees suspicious activity, before using remove on all the hosts it has flagged. However, due to the 5% change that Red's exploit is missed, Red will always eventually get to the Op_Server."
   ]
  },
  {
   "cell_type": "code",
   "execution_count": 18,
   "metadata": {},
   "outputs": [
    {
     "name": "stdout",
     "output_type": "stream",
     "text": [
      "Monitor\n",
      "Monitor\n",
      "Monitor\n",
      "Monitor\n",
      "Monitor\n",
      "Monitor\n",
      "Monitor\n",
      "Remove User1\n",
      "Monitor\n",
      "Monitor\n",
      "Remove Enterprise1\n",
      "Monitor\n"
     ]
    }
   ],
   "source": [
    "env = CybORG(path,'sim',agents={'Red':B_lineAgent})\n",
    "\n",
    "agent = BlueReactRemoveAgent()\n",
    "\n",
    "results = env.reset('Blue')\n",
    "obs = results.observation\n",
    "action_space = results.action_space\n",
    "\n",
    "for i in range(12):\n",
    "    action = agent.get_action(obs,action_space)\n",
    "    results = env.step(action=action,agent='Blue')\n",
    "    obs = results.observation\n",
    "    print(env.get_last_action('Blue'))"
   ]
  },
  {
   "attachments": {},
   "cell_type": "markdown",
   "metadata": {},
   "source": [
    "The BlueReactRestoreAgent is the same as the React agent above, but uses the Restore action."
   ]
  },
  {
   "cell_type": "code",
   "execution_count": 19,
   "metadata": {},
   "outputs": [
    {
     "name": "stdout",
     "output_type": "stream",
     "text": [
      "Monitor\n",
      "Monitor\n",
      "Monitor\n",
      "Restore User1\n",
      "Monitor\n",
      "Restore User1\n",
      "Monitor\n",
      "Restore User1\n",
      "Monitor\n",
      "Monitor\n",
      "Monitor\n",
      "Monitor\n"
     ]
    }
   ],
   "source": [
    "agent = BlueReactRestoreAgent()\n",
    "\n",
    "results = env.reset('Blue')\n",
    "obs = results.observation\n",
    "action_space = results.action_space\n",
    "\n",
    "for i in range(12):\n",
    "    action = agent.get_action(obs,action_space)\n",
    "    results = env.step(action=action,agent='Blue')\n",
    "    obs = results.observation\n",
    "    print(env.get_last_action('Blue'))"
   ]
  },
  {
   "attachments": {},
   "cell_type": "markdown",
   "metadata": {},
   "source": [
    "### Green Agent"
   ]
  },
  {
   "attachments": {},
   "cell_type": "markdown",
   "metadata": {},
   "source": [
    "An important part of CybORG Scenario1b is the Green agent, which represents the users on the network. The Green Agent is very simple, it only performs a scanning action on random hosts some of the time. This is only visible by Blue Agent."
   ]
  },
  {
   "cell_type": "code",
   "execution_count": 20,
   "metadata": {},
   "outputs": [
    {
     "name": "stdout",
     "output_type": "stream",
     "text": [
      "GreenPortScan\n",
      "GreenPortScan\n",
      "Sleep\n",
      "Sleep\n",
      "GreenPortScan\n",
      "GreenPortScan\n",
      "Sleep\n",
      "GreenPortScan\n",
      "GreenPortScan\n",
      "Sleep\n",
      "Sleep\n",
      "Sleep\n"
     ]
    }
   ],
   "source": [
    "agent = GreenAgent()\n",
    "\n",
    "results = env.reset('Green')\n",
    "obs = results.observation\n",
    "action_space = results.action_space\n",
    "\n",
    "for i in range(12):\n",
    "    print(agent.get_action(obs,action_space))"
   ]
  },
  {
   "attachments": {},
   "cell_type": "markdown",
   "metadata": {},
   "source": [
    "### Keyboard Agent"
   ]
  },
  {
   "attachments": {},
   "cell_type": "markdown",
   "metadata": {},
   "source": [
    "The KeyboardAgent allows a human user to manually choose actions. This is useful for getting an intuition for the scenario."
   ]
  },
  {
   "cell_type": "code",
   "execution_count": null,
   "metadata": {},
   "outputs": [
    {
     "name": "stdout",
     "output_type": "stream",
     "text": [
      "+----------------+-------------+-------------+----------+-------------+\n",
      "|     Subnet     |  IP Address |   Hostname  | Activity | Compromised |\n",
      "+----------------+-------------+-------------+----------+-------------+\n",
      "| 10.0.37.128/28 | 10.0.37.131 |   Defender  |   None   |      No     |\n",
      "| 10.0.37.128/28 | 10.0.37.140 | Enterprise0 |   None   |      No     |\n",
      "| 10.0.37.128/28 | 10.0.37.130 | Enterprise1 |   None   |      No     |\n",
      "| 10.0.37.128/28 | 10.0.37.141 | Enterprise2 |   None   |      No     |\n",
      "| 10.0.89.208/28 | 10.0.89.219 |   Op_Host0  |   None   |      No     |\n",
      "| 10.0.89.208/28 | 10.0.89.214 |   Op_Host1  |   None   |      No     |\n",
      "| 10.0.89.208/28 | 10.0.89.221 |   Op_Host2  |   None   |      No     |\n",
      "| 10.0.89.208/28 | 10.0.89.218 |  Op_Server0 |   None   |      No     |\n",
      "| 10.0.21.48/28  |  10.0.21.56 |    User0    |   None   |      No     |\n",
      "| 10.0.21.48/28  |  10.0.21.59 |    User1    |   None   |      No     |\n",
      "| 10.0.21.48/28  |  10.0.21.53 |    User2    |   None   |      No     |\n",
      "| 10.0.21.48/28  |  10.0.21.49 |    User3    |   None   |      No     |\n",
      "| 10.0.21.48/28  |  10.0.21.55 |    User4    |   None   |      No     |\n",
      "+----------------+-------------+-------------+----------+-------------+\n",
      "\n",
      "************************************ Turn 1: Observation *************************************\n",
      "\n",
      "+----------------+-------------+-------------+----------+-------------+\n",
      "|     Subnet     |  IP Address |   Hostname  | Activity | Compromised |\n",
      "+----------------+-------------+-------------+----------+-------------+\n",
      "| 10.0.37.128/28 | 10.0.37.131 |   Defender  |   None   |      No     |\n",
      "| 10.0.37.128/28 | 10.0.37.140 | Enterprise0 |   None   |      No     |\n",
      "| 10.0.37.128/28 | 10.0.37.130 | Enterprise1 |   None   |      No     |\n",
      "| 10.0.37.128/28 | 10.0.37.141 | Enterprise2 |   None   |      No     |\n",
      "| 10.0.89.208/28 | 10.0.89.219 |   Op_Host0  |   None   |      No     |\n",
      "| 10.0.89.208/28 | 10.0.89.214 |   Op_Host1  |   None   |      No     |\n",
      "| 10.0.89.208/28 | 10.0.89.221 |   Op_Host2  |   None   |      No     |\n",
      "| 10.0.89.208/28 | 10.0.89.218 |  Op_Server0 |   None   |      No     |\n",
      "| 10.0.21.48/28  |  10.0.21.56 |    User0    |   None   |      No     |\n",
      "| 10.0.21.48/28  |  10.0.21.59 |    User1    |   None   |      No     |\n",
      "| 10.0.21.48/28  |  10.0.21.53 |    User2    |   None   |      No     |\n",
      "| 10.0.21.48/28  |  10.0.21.49 |    User3    |   None   |      No     |\n",
      "| 10.0.21.48/28  |  10.0.21.55 |    User4    |   None   |      No     |\n",
      "+----------------+-------------+-------------+----------+-------------+\n",
      "\n",
      "********************************* Turn 1: Command Selection **********************************\n",
      "\n",
      "0 Sleep\n",
      "1 Monitor\n",
      "2 Analyse\n",
      "3 Remove\n",
      "4 Misinform\n",
      "5 Restore\n"
     ]
    }
   ],
   "source": [
    "from CybORG.Agents.Wrappers import RedTableWrapper, BlueTableWrapper\n",
    "\n",
    "cyborg = CybORG(path, 'sim',agents={'Red':RedMeanderAgent})\n",
    "env = BlueTableWrapper(env=cyborg, output_mode='table')\n",
    "env1= BlueTableWrapper(env=cyborg, output_mode='vector')\n",
    "\n",
    "agent = KeyboardAgent()\n",
    "\n",
    "results = env.reset('Blue')\n",
    "obs = results.observation\n",
    "action_space = results.action_space\n",
    "\n",
    "for i in range(3):\n",
    "    print(obs)\n",
    "    action = agent.get_action(obs,action_space)\n",
    "    results = env.step(action=action,agent='Blue')\n",
    "    obs = results.observation"
   ]
  },
  {
   "cell_type": "code",
   "execution_count": null,
   "metadata": {},
   "outputs": [],
   "source": []
  }
 ],
 "metadata": {
  "kernelspec": {
   "display_name": "Python 3 (ipykernel)",
   "language": "python",
   "name": "python3"
  },
  "language_info": {
   "codemirror_mode": {
    "name": "ipython",
    "version": 3
   },
   "file_extension": ".py",
   "mimetype": "text/x-python",
   "name": "python",
   "nbconvert_exporter": "python",
   "pygments_lexer": "ipython3",
   "version": "3.8.10"
  }
 },
 "nbformat": 4,
 "nbformat_minor": 4
}
